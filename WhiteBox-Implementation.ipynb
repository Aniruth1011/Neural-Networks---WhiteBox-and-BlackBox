{
 "cells": [
  {
   "cell_type": "code",
   "execution_count": 21,
   "metadata": {
    "_cell_guid": "b1076dfc-b9ad-4769-8c92-a6c4dae69d19",
    "_uuid": "8f2839f25d086af736a60e9eeb907d3b93b6e0e5",
    "execution": {
     "iopub.execute_input": "2022-10-20T14:15:21.477890Z",
     "iopub.status.busy": "2022-10-20T14:15:21.477539Z",
     "iopub.status.idle": "2022-10-20T14:15:25.240956Z",
     "shell.execute_reply": "2022-10-20T14:15:25.239354Z",
     "shell.execute_reply.started": "2022-10-20T14:15:21.477860Z"
    }
   },
   "outputs": [],
   "source": [
    "import numpy as np\n",
    "import pandas as pd\n",
    "from matplotlib import pyplot as plt\n",
    "\n",
    "data = pd.read_csv(r\"D:\\Downloads\\MiniProject\\EDA\\train.csv\\train.csv\")"
   ]
  },
  {
   "cell_type": "code",
   "execution_count": 39,
   "metadata": {
    "execution": {
     "iopub.execute_input": "2022-10-20T14:15:25.244402Z",
     "iopub.status.busy": "2022-10-20T14:15:25.243858Z",
     "iopub.status.idle": "2022-10-20T14:15:26.019503Z",
     "shell.execute_reply": "2022-10-20T14:15:26.018528Z",
     "shell.execute_reply.started": "2022-10-20T14:15:25.244355Z"
    }
   },
   "outputs": [],
   "source": [
    "data = np.array(data)\n",
    "m, n = data.shape\n",
    "np.random.shuffle(data)\n",
    "\n",
    "data_test = data[0:1000].T\n",
    "Y_test = data_test[0]\n",
    "X_test = data_test[1:n]\n",
    "X_test = X_test / 255.\n",
    "\n",
    "data_train = data[1000:m].T\n",
    "Y_train = data_train[0]\n",
    "X_train = data_train[1:n]\n",
    "X_train = X_train / 255.\n",
    "_,m_train = X_train.shape"
   ]
  },
  {
   "cell_type": "code",
   "execution_count": 40,
   "metadata": {
    "execution": {
     "iopub.execute_input": "2022-10-20T14:15:33.413305Z",
     "iopub.status.busy": "2022-10-20T14:15:33.412892Z",
     "iopub.status.idle": "2022-10-20T14:15:33.423645Z",
     "shell.execute_reply": "2022-10-20T14:15:33.422466Z",
     "shell.execute_reply.started": "2022-10-20T14:15:33.413272Z"
    }
   },
   "outputs": [
    {
     "data": {
      "text/plain": [
       "array([5, 4, 9, ..., 8, 5, 2], dtype=int64)"
      ]
     },
     "execution_count": 40,
     "metadata": {},
     "output_type": "execute_result"
    }
   ],
   "source": [
    "Y_train"
   ]
  },
  {
   "cell_type": "code",
   "execution_count": 41,
   "metadata": {
    "execution": {
     "iopub.execute_input": "2022-10-20T14:15:41.003659Z",
     "iopub.status.busy": "2022-10-20T14:15:41.003281Z",
     "iopub.status.idle": "2022-10-20T14:15:41.020211Z",
     "shell.execute_reply": "2022-10-20T14:15:41.019102Z",
     "shell.execute_reply.started": "2022-10-20T14:15:41.003628Z"
    }
   },
   "outputs": [],
   "source": [
    "def init_params():\n",
    "    W1 = np.random.rand(10, 784) - 0.5\n",
    "    b1 = np.random.rand(10, 1) - 0.5\n",
    "    W2 = np.random.rand(10, 10) - 0.5\n",
    "    b2 = np.random.rand(10, 1) - 0.5\n",
    "    return W1, b1, W2, b2\n",
    "\n",
    "def ReLU(Z):\n",
    "    return np.maximum(Z, 0)\n",
    "\n",
    "def softmax(Z):\n",
    "    A = np.exp(Z) / sum(np.exp(Z))\n",
    "    return A\n",
    "    \n",
    "def forward_prop(W1, b1, W2, b2, X):\n",
    "    Z1 = W1.dot(X) + b1\n",
    "    A1 = ReLU(Z1)\n",
    "    Z2 = W2.dot(A1) + b2\n",
    "    A2 = softmax(Z2)\n",
    "    return Z1, A1, Z2, A2\n",
    "\n",
    "def ReLU_deriv(Z):\n",
    "    return Z > 0\n",
    "\n",
    "def one_hot(Y):\n",
    "    one_hot_Y = np.zeros((Y.size, Y.max() + 1))\n",
    "    one_hot_Y[np.arange(Y.size), Y] = 1\n",
    "    one_hot_Y = one_hot_Y.T\n",
    "    return one_hot_Y\n",
    "\n",
    "def backward_prop(Z1, A1, Z2, A2, W1, W2, X, Y):\n",
    "    one_hot_Y = one_hot(Y)\n",
    "    dZ2 = A2 - one_hot_Y\n",
    "    dW2 = 1 / m * dZ2.dot(A1.T)\n",
    "    db2 = 1 / m * np.sum(dZ2)\n",
    "    dZ1 = W2.T.dot(dZ2) * ReLU_deriv(Z1)\n",
    "    dW1 = 1 / m * dZ1.dot(X.T)\n",
    "    db1 = 1 / m * np.sum(dZ1)\n",
    "    return dW1, db1, dW2, db2\n",
    "\n",
    "def update_params(W1, b1, W2, b2, dW1, db1, dW2, db2, alpha):\n",
    "    W1 = W1 - alpha * dW1\n",
    "    b1 = b1 - alpha * db1    \n",
    "    W2 = W2 - alpha * dW2  \n",
    "    b2 = b2 - alpha * db2    \n",
    "    return W1, b1, W2, b2"
   ]
  },
  {
   "cell_type": "code",
   "execution_count": 42,
   "metadata": {
    "execution": {
     "iopub.execute_input": "2022-10-20T14:15:49.006930Z",
     "iopub.status.busy": "2022-10-20T14:15:49.006571Z",
     "iopub.status.idle": "2022-10-20T14:15:49.017134Z",
     "shell.execute_reply": "2022-10-20T14:15:49.016157Z",
     "shell.execute_reply.started": "2022-10-20T14:15:49.006898Z"
    }
   },
   "outputs": [],
   "source": [
    "def get_predictions(A2):\n",
    "    return np.argmax(A2, 0)\n",
    "\n",
    "def get_accuracy(predictions, Y):\n",
    "    print(predictions, Y)\n",
    "    return np.sum(predictions == Y) / Y.size\n",
    "\n",
    "def gradient_descent(X, Y, alpha, iterations):\n",
    "    W1, b1, W2, b2 = init_params()\n",
    "    for i in range(iterations):\n",
    "        Z1, A1, Z2, A2 = forward_prop(W1, b1, W2, b2, X)\n",
    "        dW1, db1, dW2, db2 = backward_prop(Z1, A1, Z2, A2, W1, W2, X, Y)\n",
    "        W1, b1, W2, b2 = update_params(W1, b1, W2, b2, dW1, db1, dW2, db2, alpha)\n",
    "        if i % 10 == 0:\n",
    "            print(\"Iteration: \", i)\n",
    "            predictions = get_predictions(A2)\n",
    "            print(get_accuracy(predictions, Y))\n",
    "    return W1, b1, W2, b2"
   ]
  },
  {
   "cell_type": "code",
   "execution_count": 43,
   "metadata": {
    "execution": {
     "iopub.execute_input": "2022-10-20T14:15:55.224893Z",
     "iopub.status.busy": "2022-10-20T14:15:55.224149Z",
     "iopub.status.idle": "2022-10-20T14:16:39.470982Z",
     "shell.execute_reply": "2022-10-20T14:16:39.470110Z",
     "shell.execute_reply.started": "2022-10-20T14:15:55.224827Z"
    }
   },
   "outputs": [
    {
     "name": "stdout",
     "output_type": "stream",
     "text": [
      "Iteration:  0\n",
      "[4 4 4 ... 0 7 4] [5 4 9 ... 8 5 2]\n",
      "0.05519512195121951\n",
      "Iteration:  10\n",
      "[0 4 4 ... 0 6 0] [5 4 9 ... 8 5 2]\n",
      "0.25709756097560976\n",
      "Iteration:  20\n",
      "[3 4 4 ... 0 7 0] [5 4 9 ... 8 5 2]\n",
      "0.43414634146341463\n",
      "Iteration:  30\n",
      "[3 7 7 ... 5 7 3] [5 4 9 ... 8 5 2]\n",
      "0.44146341463414634\n",
      "Iteration:  40\n",
      "[0 4 7 ... 5 7 3] [5 4 9 ... 8 5 2]\n",
      "0.653829268292683\n",
      "Iteration:  50\n",
      "[0 9 9 ... 5 7 3] [5 4 9 ... 8 5 2]\n",
      "0.658\n",
      "Iteration:  60\n",
      "[0 9 7 ... 5 7 3] [5 4 9 ... 8 5 2]\n",
      "0.6759512195121952\n",
      "Iteration:  70\n",
      "[0 9 7 ... 5 7 3] [5 4 9 ... 8 5 2]\n",
      "0.7059024390243902\n",
      "Iteration:  80\n",
      "[0 9 7 ... 5 7 3] [5 4 9 ... 8 5 2]\n",
      "0.7364634146341463\n",
      "Iteration:  90\n",
      "[0 9 7 ... 5 7 2] [5 4 9 ... 8 5 2]\n",
      "0.7565609756097561\n",
      "Iteration:  100\n",
      "[0 9 7 ... 8 7 2] [5 4 9 ... 8 5 2]\n",
      "0.7748536585365854\n",
      "Iteration:  110\n",
      "[0 9 7 ... 8 7 2] [5 4 9 ... 8 5 2]\n",
      "0.7900487804878049\n",
      "Iteration:  120\n",
      "[0 9 7 ... 8 7 2] [5 4 9 ... 8 5 2]\n",
      "0.8007073170731708\n",
      "Iteration:  130\n",
      "[0 4 7 ... 8 7 2] [5 4 9 ... 8 5 2]\n",
      "0.8102682926829269\n",
      "Iteration:  140\n",
      "[0 4 7 ... 8 7 2] [5 4 9 ... 8 5 2]\n",
      "0.8181219512195121\n",
      "Iteration:  150\n",
      "[0 4 7 ... 8 7 2] [5 4 9 ... 8 5 2]\n",
      "0.8240243902439024\n",
      "Iteration:  160\n",
      "[0 4 7 ... 8 7 2] [5 4 9 ... 8 5 2]\n",
      "0.8292439024390243\n",
      "Iteration:  170\n",
      "[0 4 7 ... 8 7 2] [5 4 9 ... 8 5 2]\n",
      "0.8348536585365853\n",
      "Iteration:  180\n",
      "[0 4 7 ... 8 7 2] [5 4 9 ... 8 5 2]\n",
      "0.8393658536585366\n",
      "Iteration:  190\n",
      "[0 4 7 ... 8 7 2] [5 4 9 ... 8 5 2]\n",
      "0.8429756097560975\n",
      "Iteration:  200\n",
      "[0 4 7 ... 8 7 2] [5 4 9 ... 8 5 2]\n",
      "0.8464146341463414\n",
      "Iteration:  210\n",
      "[0 4 7 ... 8 7 2] [5 4 9 ... 8 5 2]\n",
      "0.8497073170731707\n",
      "Iteration:  220\n",
      "[0 4 7 ... 8 7 2] [5 4 9 ... 8 5 2]\n",
      "0.8525609756097561\n",
      "Iteration:  230\n",
      "[0 4 7 ... 8 7 2] [5 4 9 ... 8 5 2]\n",
      "0.8549024390243902\n",
      "Iteration:  240\n",
      "[0 4 7 ... 8 7 2] [5 4 9 ... 8 5 2]\n",
      "0.8566829268292683\n",
      "Iteration:  250\n",
      "[0 4 7 ... 8 7 2] [5 4 9 ... 8 5 2]\n",
      "0.8581219512195122\n",
      "Iteration:  260\n",
      "[0 4 7 ... 8 7 2] [5 4 9 ... 8 5 2]\n",
      "0.8600243902439024\n",
      "Iteration:  270\n",
      "[0 4 7 ... 8 7 2] [5 4 9 ... 8 5 2]\n",
      "0.8619268292682927\n",
      "Iteration:  280\n",
      "[0 4 7 ... 8 7 2] [5 4 9 ... 8 5 2]\n",
      "0.8635609756097561\n",
      "Iteration:  290\n",
      "[0 4 7 ... 8 7 2] [5 4 9 ... 8 5 2]\n",
      "0.8648048780487805\n",
      "Iteration:  300\n",
      "[0 4 7 ... 8 7 2] [5 4 9 ... 8 5 2]\n",
      "0.8667317073170732\n",
      "Iteration:  310\n",
      "[0 4 7 ... 8 7 2] [5 4 9 ... 8 5 2]\n",
      "0.868\n",
      "Iteration:  320\n",
      "[0 4 7 ... 8 7 2] [5 4 9 ... 8 5 2]\n",
      "0.8684878048780488\n",
      "Iteration:  330\n",
      "[0 4 7 ... 8 7 2] [5 4 9 ... 8 5 2]\n",
      "0.8706585365853658\n",
      "Iteration:  340\n",
      "[0 4 7 ... 8 7 2] [5 4 9 ... 8 5 2]\n",
      "0.8711219512195122\n",
      "Iteration:  350\n",
      "[0 4 7 ... 8 7 2] [5 4 9 ... 8 5 2]\n",
      "0.8715121951219512\n",
      "Iteration:  360\n",
      "[0 4 7 ... 8 7 2] [5 4 9 ... 8 5 2]\n",
      "0.8741951219512195\n",
      "Iteration:  370\n",
      "[0 4 7 ... 8 7 2] [5 4 9 ... 8 5 2]\n",
      "0.8741707317073171\n",
      "Iteration:  380\n",
      "[0 4 7 ... 8 7 2] [5 4 9 ... 8 5 2]\n",
      "0.8734390243902439\n",
      "Iteration:  390\n",
      "[0 4 7 ... 8 7 2] [5 4 9 ... 8 5 2]\n",
      "0.8783170731707317\n",
      "Iteration:  400\n",
      "[0 4 7 ... 8 7 2] [5 4 9 ... 8 5 2]\n",
      "0.8764146341463415\n",
      "Iteration:  410\n",
      "[0 4 7 ... 8 7 2] [5 4 9 ... 8 5 2]\n",
      "0.8736341463414634\n",
      "Iteration:  420\n",
      "[0 4 7 ... 8 7 2] [5 4 9 ... 8 5 2]\n",
      "0.8840731707317073\n",
      "Iteration:  430\n",
      "[0 4 7 ... 8 7 2] [5 4 9 ... 8 5 2]\n",
      "0.8805365853658537\n",
      "Iteration:  440\n",
      "[0 4 7 ... 8 7 2] [5 4 9 ... 8 5 2]\n",
      "0.8701951219512195\n",
      "Iteration:  450\n",
      "[0 4 7 ... 8 7 2] [5 4 9 ... 8 5 2]\n",
      "0.891\n",
      "Iteration:  460\n",
      "[0 4 7 ... 8 7 2] [5 4 9 ... 8 5 2]\n",
      "0.8905609756097561\n",
      "Iteration:  470\n",
      "[0 4 9 ... 8 7 2] [5 4 9 ... 8 5 2]\n",
      "0.8470487804878049\n",
      "Iteration:  480\n",
      "[0 4 7 ... 8 7 2] [5 4 9 ... 8 5 2]\n",
      "0.8954878048780488\n",
      "Iteration:  490\n",
      "[0 4 7 ... 8 7 2] [5 4 9 ... 8 5 2]\n",
      "0.8976829268292683\n",
      "Iteration:  500\n",
      "[0 4 7 ... 8 7 2] [5 4 9 ... 8 5 2]\n",
      "0.8980975609756098\n",
      "Iteration:  510\n",
      "[0 4 9 ... 8 7 2] [5 4 9 ... 8 5 2]\n",
      "0.885390243902439\n",
      "Iteration:  520\n",
      "[0 4 7 ... 8 7 2] [5 4 9 ... 8 5 2]\n",
      "0.8938780487804878\n",
      "Iteration:  530\n",
      "[0 4 9 ... 8 7 2] [5 4 9 ... 8 5 2]\n",
      "0.9007317073170732\n",
      "Iteration:  540\n",
      "[0 4 9 ... 8 7 2] [5 4 9 ... 8 5 2]\n",
      "0.9021219512195122\n",
      "Iteration:  550\n",
      "[0 4 9 ... 8 7 2] [5 4 9 ... 8 5 2]\n",
      "0.9029268292682927\n",
      "Iteration:  560\n",
      "[0 4 9 ... 8 7 2] [5 4 9 ... 8 5 2]\n",
      "0.9011219512195122\n",
      "Iteration:  570\n",
      "[0 9 9 ... 8 7 2] [5 4 9 ... 8 5 2]\n",
      "0.840170731707317\n",
      "Iteration:  580\n",
      "[0 4 9 ... 8 7 2] [5 4 9 ... 8 5 2]\n",
      "0.904390243902439\n",
      "Iteration:  590\n",
      "[0 4 9 ... 8 7 2] [5 4 9 ... 8 5 2]\n",
      "0.9051707317073171\n",
      "Iteration:  600\n",
      "[0 4 9 ... 8 7 2] [5 4 9 ... 8 5 2]\n",
      "0.9055121951219512\n",
      "Iteration:  610\n",
      "[0 4 9 ... 8 7 2] [5 4 9 ... 8 5 2]\n",
      "0.9055609756097561\n",
      "Iteration:  620\n",
      "[0 4 9 ... 8 7 2] [5 4 9 ... 8 5 2]\n",
      "0.9011219512195122\n",
      "Iteration:  630\n",
      "[0 4 9 ... 8 7 2] [5 4 9 ... 8 5 2]\n",
      "0.8924146341463415\n",
      "Iteration:  640\n",
      "[0 4 9 ... 8 7 2] [5 4 9 ... 8 5 2]\n",
      "0.907\n",
      "Iteration:  650\n",
      "[0 4 9 ... 8 7 2] [5 4 9 ... 8 5 2]\n",
      "0.9083658536585366\n",
      "Iteration:  660\n",
      "[0 4 9 ... 8 7 2] [5 4 9 ... 8 5 2]\n",
      "0.9087073170731708\n",
      "Iteration:  670\n",
      "[0 4 9 ... 8 7 2] [5 4 9 ... 8 5 2]\n",
      "0.9090487804878049\n",
      "Iteration:  680\n",
      "[0 4 9 ... 8 7 2] [5 4 9 ... 8 5 2]\n",
      "0.9014390243902439\n",
      "Iteration:  690\n",
      "[0 4 9 ... 8 7 2] [5 4 9 ... 8 5 2]\n",
      "0.9051951219512195\n",
      "Iteration:  700\n",
      "[0 4 9 ... 8 7 2] [5 4 9 ... 8 5 2]\n",
      "0.91\n",
      "Iteration:  710\n",
      "[0 4 9 ... 8 7 2] [5 4 9 ... 8 5 2]\n",
      "0.9110731707317073\n",
      "Iteration:  720\n",
      "[0 4 9 ... 8 7 2] [5 4 9 ... 8 5 2]\n",
      "0.9114390243902439\n",
      "Iteration:  730\n",
      "[0 4 9 ... 8 7 2] [5 4 9 ... 8 5 2]\n",
      "0.9120731707317074\n",
      "Iteration:  740\n",
      "[0 4 9 ... 8 7 2] [5 4 9 ... 8 5 2]\n",
      "0.9123170731707317\n",
      "Iteration:  750\n",
      "[0 4 9 ... 8 7 2] [5 4 9 ... 8 5 2]\n",
      "0.9126829268292683\n",
      "Iteration:  760\n",
      "[0 4 9 ... 8 7 2] [5 4 9 ... 8 5 2]\n",
      "0.8791463414634146\n",
      "Iteration:  770\n",
      "[0 4 9 ... 8 7 2] [5 4 9 ... 8 5 2]\n",
      "0.9109268292682927\n",
      "Iteration:  780\n",
      "[0 4 9 ... 8 7 2] [5 4 9 ... 8 5 2]\n",
      "0.9135609756097561\n",
      "Iteration:  790\n",
      "[0 4 9 ... 8 7 2] [5 4 9 ... 8 5 2]\n",
      "0.9141951219512195\n"
     ]
    }
   ],
   "source": [
    "W1, b1, W2, b2 = gradient_descent(X_train, Y_train, 0.60, 800)"
   ]
  },
  {
   "cell_type": "code",
   "execution_count": 49,
   "metadata": {
    "execution": {
     "iopub.execute_input": "2022-10-20T14:17:11.612850Z",
     "iopub.status.busy": "2022-10-20T14:17:11.612460Z",
     "iopub.status.idle": "2022-10-20T14:17:11.622347Z",
     "shell.execute_reply": "2022-10-20T14:17:11.621429Z",
     "shell.execute_reply.started": "2022-10-20T14:17:11.612819Z"
    }
   },
   "outputs": [],
   "source": [
    "def make_predictions(X, W1, b1, W2, b2):\n",
    "    _, _, _, A2 = forward_prop(W1, b1, W2, b2, X)\n",
    "    predictions = get_predictions(A2)\n",
    "    return predictions\n",
    "\n",
    "def test_prediction(index, W1, b1, W2, b2):\n",
    "    current_image = X_train[:, index, None]\n",
    "    prediction = make_predictions(X_train[:, index, None], W1, b1, W2, b2)\n",
    "    label = Y_train[index]\n",
    "    print(\"Prediction: \", prediction)\n",
    "    print(\"Label: \", label)\n",
    "    \n",
    "    current_image = current_image.reshape((28, 28)) * 255\n",
    "    plt.gray()\n",
    "    plt.imshow(current_image, interpolation='nearest')\n",
    "    plt.show()"
   ]
  },
  {
   "cell_type": "code",
   "execution_count": 50,
   "metadata": {
    "execution": {
     "iopub.execute_input": "2022-10-20T14:17:19.627183Z",
     "iopub.status.busy": "2022-10-20T14:17:19.626753Z",
     "iopub.status.idle": "2022-10-20T14:17:20.334327Z",
     "shell.execute_reply": "2022-10-20T14:17:20.333392Z",
     "shell.execute_reply.started": "2022-10-20T14:17:19.627146Z"
    }
   },
   "outputs": [
    {
     "name": "stdout",
     "output_type": "stream",
     "text": [
      "Prediction:  [4]\n",
      "Label:  4\n"
     ]
    },
    {
     "data": {
      "image/png": "[encoded data removed]",
      "text/plain": [
       "<Figure size 432x288 with 1 Axes>"
      ]
     },
     "metadata": {
      "needs_background": "light"
     },
     "output_type": "display_data"
    },
    {
     "name": "stdout",
     "output_type": "stream",
     "text": [
      "Prediction:  [9]\n",
      "Label:  9\n"
     ]
    },
    {
     "data": {
      "image/png": "[encoded data removed]",
      "text/plain": [
       "<Figure size 432x288 with 1 Axes>"
      ]
     },
     "metadata": {
      "needs_background": "light"
     },
     "output_type": "display_data"
    },
    {
     "name": "stdout",
     "output_type": "stream",
     "text": [
      "Prediction:  [9]\n",
      "Label:  9\n"
     ]
    },
    {
     "data": {
      "image/png": "[encoded data removed]",
      "text/plain": [
       "<Figure size 432x288 with 1 Axes>"
      ]
     },
     "metadata": {
      "needs_background": "light"
     },
     "output_type": "display_data"
    },
    {
     "name": "stdout",
     "output_type": "stream",
     "text": [
      "Prediction:  [5]\n",
      "Label:  5\n"
     ]
    },
    {
     "data": {
      "image/png": "[encoded data removed]",
      "text/plain": [
       "<Figure size 432x288 with 1 Axes>"
      ]
     },
     "metadata": {
      "needs_background": "light"
     },
     "output_type": "display_data"
    }
   ],
   "source": [
    "test_prediction(1, W1, b1, W2, b2)\n",
    "test_prediction(2, W1, b1, W2, b2)\n",
    "test_prediction(3, W1, b1, W2, b2)\n",
    "test_prediction(4, W1, b1, W2, b2)"
   ]
  },
  {
   "cell_type": "code",
   "execution_count": 52,
   "metadata": {
    "execution": {
     "iopub.execute_input": "2022-10-20T14:17:25.319850Z",
     "iopub.status.busy": "2022-10-20T14:17:25.319450Z",
     "iopub.status.idle": "2022-10-20T14:17:25.338119Z",
     "shell.execute_reply": "2022-10-20T14:17:25.336961Z",
     "shell.execute_reply.started": "2022-10-20T14:17:25.319813Z"
    }
   },
   "outputs": [],
   "source": [
    "test_predictions = make_predictions(X_test, W1, b1, W2, b2)"
   ]
  },
  {
   "cell_type": "code",
   "execution_count": 53,
   "metadata": {},
   "outputs": [
    {
     "data": {
      "text/plain": [
       "array([0, 5, 9, 7, 8, 1, 5, 8, 7, 7, 5, 5, 3, 0, 5, 5, 3, 4, 9, 5, 4, 8,\n",
       "       8, 3, 9, 2, 5, 6, 9, 2, 9, 3, 7, 4, 2, 5, 2, 0, 0, 4, 7, 6, 0, 4,\n",
       "       3, 1, 3, 7, 5, 1, 0, 9, 1, 4, 5, 0, 6, 9, 7, 7, 4, 8, 3, 2, 6, 1,\n",
       "       9, 1, 8, 5, 9, 8, 0, 4, 4, 6, 8, 9, 6, 8, 9, 5, 6, 9, 6, 6, 7, 1,\n",
       "       4, 8, 5, 6, 5, 7, 5, 3, 6, 0, 3, 0, 2, 1, 0, 0, 9, 8, 7, 2, 9, 8,\n",
       "       2, 3, 5, 8, 1, 6, 6, 7, 1, 6, 0, 3, 0, 5, 5, 7, 2, 0, 4, 0, 8, 9,\n",
       "       3, 4, 2, 4, 3, 6, 5, 7, 4, 1, 6, 1, 3, 6, 1, 4, 5, 3, 8, 4, 0, 3,\n",
       "       6, 6, 9, 2, 2, 0, 5, 9, 9, 2, 2, 8, 3, 4, 7, 1, 0, 7, 9, 5, 7, 6,\n",
       "       9, 3, 5, 2, 9, 1, 0, 9, 9, 9, 6, 7, 3, 4, 4, 2, 3, 9, 0, 0, 0, 0,\n",
       "       9, 6, 3, 9, 8, 8, 7, 3, 4, 9, 5, 3, 1, 5, 6, 9, 8, 7, 2, 6, 8, 5,\n",
       "       1, 3, 7, 6, 7, 8, 3, 8, 9, 9, 9, 4, 4, 0, 6, 9, 0, 2, 3, 1, 6, 3,\n",
       "       5, 1, 5, 4, 5, 8, 1, 4, 7, 0, 4, 8, 2, 7, 3, 0, 1, 1, 1, 3, 3, 1,\n",
       "       4, 8, 2, 7, 8, 0, 1, 2, 9, 5, 1, 6, 1, 0, 6, 5, 3, 1, 6, 6, 6, 0,\n",
       "       7, 6, 2, 8, 6, 7, 3, 2, 0, 5, 1, 7, 7, 9, 7, 1, 4, 8, 4, 1, 7, 1,\n",
       "       5, 3, 1, 4, 6, 8, 1, 6, 3, 6, 2, 6, 7, 7, 1, 6, 7, 5, 6, 5, 5, 1,\n",
       "       6, 0, 3, 9, 5, 6, 7, 3, 8, 4, 8, 4, 7, 3, 9, 8, 5, 8, 6, 4, 9, 2,\n",
       "       7, 6, 7, 2, 0, 3, 8, 9, 0, 0, 9, 3, 1, 8, 1, 4, 6, 3, 7, 4, 9, 8,\n",
       "       7, 4, 1, 4, 0, 0, 7, 6, 4, 8, 2, 8, 1, 3, 4, 2, 7, 6, 1, 9, 8, 9,\n",
       "       8, 5, 2, 9, 3, 3, 7, 9, 0, 4, 8, 5, 1, 8, 6, 7, 7, 1, 7, 0, 1, 1,\n",
       "       1, 4, 3, 4, 3, 0, 5, 9, 7, 9, 9, 1, 1, 3, 6, 1, 8, 9, 2, 6, 9, 1,\n",
       "       7, 6, 4, 7, 2, 2, 3, 8, 8, 9, 3, 1, 3, 1, 4, 9, 3, 0, 8, 4, 9, 5,\n",
       "       4, 6, 7, 1, 4, 4, 8, 4, 5, 1, 3, 8, 0, 4, 0, 4, 9, 3, 4, 9, 5, 9,\n",
       "       8, 6, 3, 4, 5, 2, 1, 3, 6, 7, 3, 3, 4, 2, 5, 0, 5, 4, 2, 0, 3, 8,\n",
       "       7, 0, 6, 5, 9, 9, 0, 1, 5, 1, 6, 1, 6, 4, 7, 2, 7, 5, 6, 4, 2, 4,\n",
       "       7, 5, 8, 6, 5, 3, 1, 0, 2, 4, 1, 0, 7, 4, 6, 2, 8, 3, 1, 3, 0, 7,\n",
       "       8, 2, 2, 3, 6, 3, 1, 2, 3, 1, 3, 6, 9, 9, 5, 4, 9, 7, 0, 4, 9, 2,\n",
       "       3, 7, 4, 9, 8, 1, 2, 9, 4, 9, 2, 0, 3, 3, 0, 7, 3, 1, 8, 9, 8, 1,\n",
       "       4, 4, 6, 6, 3, 6, 9, 1, 2, 9, 9, 2, 8, 9, 0, 3, 9, 0, 4, 8, 1, 4,\n",
       "       2, 2, 7, 8, 6, 7, 4, 2, 5, 5, 8, 8, 5, 9, 4, 3, 1, 7, 3, 5, 4, 5,\n",
       "       1, 3, 9, 8, 9, 9, 1, 3, 3, 3, 1, 8, 7, 8, 1, 1, 7, 8, 7, 5, 5, 7,\n",
       "       5, 7, 1, 7, 5, 8, 4, 1, 5, 4, 3, 7, 0, 2, 6, 5, 7, 9, 3, 6, 0, 8,\n",
       "       7, 6, 7, 1, 3, 7, 3, 1, 4, 7, 2, 9, 7, 3, 9, 3, 7, 1, 3, 9, 4, 7,\n",
       "       9, 2, 8, 7, 8, 8, 5, 7, 5, 2, 3, 0, 0, 4, 6, 5, 6, 9, 9, 6, 4, 6,\n",
       "       9, 7, 2, 2, 4, 3, 8, 6, 5, 7, 4, 8, 1, 5, 3, 8, 1, 2, 6, 9, 9, 6,\n",
       "       8, 4, 7, 3, 5, 6, 6, 0, 3, 9, 2, 2, 4, 3, 7, 6, 2, 9, 3, 5, 2, 1,\n",
       "       7, 7, 1, 3, 8, 2, 3, 7, 5, 1, 2, 7, 6, 9, 9, 9, 7, 9, 7, 6, 4, 7,\n",
       "       4, 2, 2, 3, 2, 2, 9, 7, 5, 8, 3, 5, 7, 6, 2, 7, 5, 0, 6, 5, 3, 3,\n",
       "       8, 8, 8, 1, 7, 4, 7, 2, 4, 9, 5, 2, 2, 4, 6, 2, 0, 7, 1, 2, 5, 1,\n",
       "       8, 3, 6, 1, 1, 2, 4, 3, 7, 7, 1, 3, 8, 1, 4, 8, 7, 3, 8, 7, 9, 3,\n",
       "       2, 8, 9, 8, 5, 0, 1, 5, 7, 2, 7, 8, 1, 3, 1, 1, 4, 6, 6, 1, 0, 2,\n",
       "       6, 3, 0, 0, 5, 7, 7, 1, 1, 0, 8, 9, 5, 9, 8, 9, 7, 8, 9, 4, 1, 1,\n",
       "       1, 0, 9, 1, 4, 9, 3, 0, 3, 5, 5, 3, 2, 9, 8, 1, 1, 9, 7, 0, 2, 5,\n",
       "       5, 3, 4, 2, 2, 5, 1, 4, 2, 2, 3, 5, 4, 4, 9, 9, 7, 6, 1, 8, 4, 7,\n",
       "       4, 4, 7, 0, 2, 6, 6, 6, 8, 6, 3, 3, 1, 5, 1, 4, 3, 4, 9, 3, 1, 1,\n",
       "       7, 0, 7, 1, 5, 9, 6, 6, 8, 5, 5, 1, 1, 8, 8, 4, 9, 6, 1, 8, 9, 5,\n",
       "       5, 2, 2, 4, 9, 7, 2, 0, 7, 3], dtype=int64)"
      ]
     },
     "execution_count": 53,
     "metadata": {},
     "output_type": "execute_result"
    }
   ],
   "source": [
    "test_predictions"
   ]
  },
  {
   "cell_type": "code",
   "execution_count": null,
   "metadata": {},
   "outputs": [],
   "source": []
  }
 ],
 "metadata": {
  "kernelspec": {
   "display_name": "Python 3 (ipykernel)",
   "language": "python",
   "name": "python3"
  },
  "language_info": {
   "codemirror_mode": {
    "name": "ipython",
    "version": 3
   },
   "file_extension": ".py",
   "mimetype": "text/x-python",
   "name": "python",
   "nbconvert_exporter": "python",
   "pygments_lexer": "ipython3",
   "version": "3.9.12"
  }
 },
 "nbformat": 4,
 "nbformat_minor": 4
}
